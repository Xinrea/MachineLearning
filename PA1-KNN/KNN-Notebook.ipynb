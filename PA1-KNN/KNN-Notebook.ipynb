{
 "cells": [
  {
   "cell_type": "markdown",
   "metadata": {},
   "source": [
    "导入所需的package，定义全局变量"
   ]
  },
  {
   "cell_type": "code",
   "execution_count": 1,
   "metadata": {},
   "outputs": [],
   "source": [
    "import struct\n",
    "import collections as cl\n",
    "import numpy as np\n",
    "import matplotlib\n",
    "matplotlib.use(\"TkAgg\")\n",
    "import matplotlib.pyplot as plt\n",
    "\n",
    "global atest,atest_label\n",
    "global atrain,atrain_label\n",
    "count = 0\n",
    "right = 0"
   ]
  },
  {
   "cell_type": "markdown",
   "metadata": {},
   "source": [
    "定义数据导入函数，包括样例数据和测试数据"
   ]
  },
  {
   "cell_type": "code",
   "execution_count": 2,
   "metadata": {},
   "outputs": [],
   "source": [
    "def import_train():\n",
    "    global atrain\n",
    "    train = open('trainingData/train-images-idx3-ubyte','rb')\n",
    "    magic_num,sample_total,row,column = struct.unpack('>IIII',train.read(16))\n",
    "    atrain = np.fromfile(train,dtype=np.uint8).reshape(sample_total,784)\n",
    "    train.close()\n",
    "\n",
    "def import_train_label():\n",
    "    global atrain_label\n",
    "    train_label = open('trainingData/train-labels-idx1-ubyte','rb')\n",
    "    magic_num,num = struct.unpack('>II',train_label.read(8))\n",
    "    atrain_label = np.fromfile(train_label,dtype=np.uint8)\n",
    "    train_label.close()\n",
    "\n",
    "def import_test():\n",
    "    global atest\n",
    "    test = open('testData/t10k-images-idx3-ubyte','rb')\n",
    "    magic_num,num_total,row,column = struct.unpack('>IIII',test.read(16))\n",
    "    atest = np.fromfile(test,dtype=np.uint8).reshape(num_total,784)\n",
    "    test.close()\n",
    "\n",
    "def import_test_label():\n",
    "    global atest_label\n",
    "    test_label = open('testData/t10k-labels-idx1-ubyte','rb')\n",
    "    magic_num,num = struct.unpack('>II',test_label.read(8))\n",
    "    atest_label = np.fromfile(test_label,dtype=np.uint8)\n",
    "    test_label.close()"
   ]
  },
  {
   "cell_type": "markdown",
   "metadata": {},
   "source": [
    "定义运行函数"
   ]
  },
  {
   "cell_type": "code",
   "execution_count": 3,
   "metadata": {},
   "outputs": [],
   "source": [
    "def begin_test():\n",
    "    global count,right\n",
    "    for c in range(len(atest_label)):\n",
    "        distance = []\n",
    "        for k in atrain:\n",
    "            distance.append(np.linalg.norm(atest[count]-k))\n",
    "        result_index = []\n",
    "        result = []\n",
    "        distance_backup = distance.copy()\n",
    "        for j in  range(0,3):\n",
    "            index = distance.index(min(distance))\n",
    "            result_index.append(index)\n",
    "            result.append(atrain_label[index])\n",
    "            distance[index] = float('inf')\n",
    "        prediction = 0\n",
    "        if(cl.Counter(result).most_common(1)[0][1]==1):\n",
    "            prediction = atrain_label[distance_backup.index(min(distance_backup))]\n",
    "        else:\n",
    "            prediction = cl.Counter(result).most_common(1)[0][0]\n",
    "        if(prediction == atest_label[count]):\n",
    "            right=right+1\n",
    "        count = count + 1\n",
    "        if(count%10==0):\n",
    "            p = '%.3f' % (float(right)/count)\n",
    "            print(p)"
   ]
  },
  {
   "cell_type": "markdown",
   "metadata": {},
   "source": [
    "进行数据导入"
   ]
  },
  {
   "cell_type": "code",
   "execution_count": 4,
   "metadata": {},
   "outputs": [],
   "source": [
    "#数据导入\n",
    "import_train()\n",
    "import_train_label()\n",
    "import_test()\n",
    "import_test_label()"
   ]
  },
  {
   "cell_type": "markdown",
   "metadata": {},
   "source": [
    "开始测试，每进行10次测试输出一次正确率"
   ]
  },
  {
   "cell_type": "code",
   "execution_count": 5,
   "metadata": {},
   "outputs": [
    {
     "name": "stdout",
     "output_type": "stream",
     "text": [
      "0.700\n",
      "0.750\n",
      "0.767\n",
      "0.775\n",
      "0.740\n",
      "0.750\n",
      "0.743\n",
      "0.738\n",
      "0.744\n",
      "0.750\n",
      "0.764\n",
      "0.742\n",
      "0.754\n",
      "0.764\n",
      "0.767\n",
      "0.750\n",
      "0.753\n",
      "0.744\n",
      "0.742\n",
      "0.750\n",
      "0.748\n",
      "0.755\n",
      "0.757\n",
      "0.754\n",
      "0.748\n",
      "0.742\n",
      "0.748\n",
      "0.754\n",
      "0.755\n",
      "0.757\n",
      "0.755\n",
      "0.753\n",
      "0.748\n",
      "0.750\n",
      "0.749\n",
      "0.753\n",
      "0.754\n",
      "0.761\n",
      "0.762\n",
      "0.765\n",
      "0.761\n",
      "0.762\n",
      "0.760\n",
      "0.761\n",
      "0.756\n",
      "0.754\n",
      "0.751\n",
      "0.752\n",
      "0.753\n",
      "0.748\n",
      "0.749\n",
      "0.744\n",
      "0.745\n",
      "0.744\n"
     ]
    },
    {
     "ename": "KeyboardInterrupt",
     "evalue": "",
     "output_type": "error",
     "traceback": [
      "\u001b[0;31m---------------------------------------------------------------------------\u001b[0m",
      "\u001b[0;31mKeyboardInterrupt\u001b[0m                         Traceback (most recent call last)",
      "\u001b[0;32m<ipython-input-5-99b2964eedca>\u001b[0m in \u001b[0;36m<module>\u001b[0;34m()\u001b[0m\n\u001b[0;32m----> 1\u001b[0;31m \u001b[0mbegin_test\u001b[0m\u001b[0;34m(\u001b[0m\u001b[0;34m)\u001b[0m\u001b[0;34m\u001b[0m\u001b[0m\n\u001b[0m",
      "\u001b[0;32m<ipython-input-3-6a1e86875714>\u001b[0m in \u001b[0;36mbegin_test\u001b[0;34m()\u001b[0m\n\u001b[1;32m      4\u001b[0m         \u001b[0mdistance\u001b[0m \u001b[0;34m=\u001b[0m \u001b[0;34m[\u001b[0m\u001b[0;34m]\u001b[0m\u001b[0;34m\u001b[0m\u001b[0m\n\u001b[1;32m      5\u001b[0m         \u001b[0;32mfor\u001b[0m \u001b[0mk\u001b[0m \u001b[0;32min\u001b[0m \u001b[0matrain\u001b[0m\u001b[0;34m:\u001b[0m\u001b[0;34m\u001b[0m\u001b[0m\n\u001b[0;32m----> 6\u001b[0;31m             \u001b[0mdistance\u001b[0m\u001b[0;34m.\u001b[0m\u001b[0mappend\u001b[0m\u001b[0;34m(\u001b[0m\u001b[0mnp\u001b[0m\u001b[0;34m.\u001b[0m\u001b[0mlinalg\u001b[0m\u001b[0;34m.\u001b[0m\u001b[0mnorm\u001b[0m\u001b[0;34m(\u001b[0m\u001b[0matest\u001b[0m\u001b[0;34m[\u001b[0m\u001b[0mcount\u001b[0m\u001b[0;34m]\u001b[0m\u001b[0;34m-\u001b[0m\u001b[0mk\u001b[0m\u001b[0;34m)\u001b[0m\u001b[0;34m)\u001b[0m\u001b[0;34m\u001b[0m\u001b[0m\n\u001b[0m\u001b[1;32m      7\u001b[0m         \u001b[0mresult_index\u001b[0m \u001b[0;34m=\u001b[0m \u001b[0;34m[\u001b[0m\u001b[0;34m]\u001b[0m\u001b[0;34m\u001b[0m\u001b[0m\n\u001b[1;32m      8\u001b[0m         \u001b[0mresult\u001b[0m \u001b[0;34m=\u001b[0m \u001b[0;34m[\u001b[0m\u001b[0;34m]\u001b[0m\u001b[0;34m\u001b[0m\u001b[0m\n",
      "\u001b[0;32m/Library/Frameworks/Python.framework/Versions/3.6/lib/python3.6/site-packages/numpy/linalg/linalg.py\u001b[0m in \u001b[0;36mnorm\u001b[0;34m(x, ord, axis, keepdims)\u001b[0m\n\u001b[1;32m   2240\u001b[0m     \u001b[0mx\u001b[0m \u001b[0;34m=\u001b[0m \u001b[0masarray\u001b[0m\u001b[0;34m(\u001b[0m\u001b[0mx\u001b[0m\u001b[0;34m)\u001b[0m\u001b[0;34m\u001b[0m\u001b[0m\n\u001b[1;32m   2241\u001b[0m \u001b[0;34m\u001b[0m\u001b[0m\n\u001b[0;32m-> 2242\u001b[0;31m     \u001b[0;32mif\u001b[0m \u001b[0;32mnot\u001b[0m \u001b[0missubclass\u001b[0m\u001b[0;34m(\u001b[0m\u001b[0mx\u001b[0m\u001b[0;34m.\u001b[0m\u001b[0mdtype\u001b[0m\u001b[0;34m.\u001b[0m\u001b[0mtype\u001b[0m\u001b[0;34m,\u001b[0m \u001b[0;34m(\u001b[0m\u001b[0minexact\u001b[0m\u001b[0;34m,\u001b[0m \u001b[0mobject_\u001b[0m\u001b[0;34m)\u001b[0m\u001b[0;34m)\u001b[0m\u001b[0;34m:\u001b[0m\u001b[0;34m\u001b[0m\u001b[0m\n\u001b[0m\u001b[1;32m   2243\u001b[0m         \u001b[0mx\u001b[0m \u001b[0;34m=\u001b[0m \u001b[0mx\u001b[0m\u001b[0;34m.\u001b[0m\u001b[0mastype\u001b[0m\u001b[0;34m(\u001b[0m\u001b[0mfloat\u001b[0m\u001b[0;34m)\u001b[0m\u001b[0;34m\u001b[0m\u001b[0m\n\u001b[1;32m   2244\u001b[0m \u001b[0;34m\u001b[0m\u001b[0m\n",
      "\u001b[0;31mKeyboardInterrupt\u001b[0m: "
     ]
    }
   ],
   "source": [
    "begin_test()"
   ]
  },
  {
   "cell_type": "code",
   "execution_count": null,
   "metadata": {},
   "outputs": [],
   "source": []
  }
 ],
 "metadata": {
  "kernelspec": {
   "display_name": "Python 3",
   "language": "python",
   "name": "python3"
  },
  "language_info": {
   "codemirror_mode": {
    "name": "ipython",
    "version": 3
   },
   "file_extension": ".py",
   "mimetype": "text/x-python",
   "name": "python",
   "nbconvert_exporter": "python",
   "pygments_lexer": "ipython3",
   "version": "3.6.1"
  }
 },
 "nbformat": 4,
 "nbformat_minor": 2
}
